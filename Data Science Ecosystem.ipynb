{
 "cells": [
  {
   "cell_type": "markdown",
   "id": "24b6369e",
   "metadata": {},
   "source": [
    "Data Science Tools and Ecosystem"
   ]
  },
  {
   "cell_type": "markdown",
   "id": "5c2e3206",
   "metadata": {},
   "source": [
    "In this notebook, Data Science Tools and Ecosystem are summarized."
   ]
  },
  {
   "cell_type": "markdown",
   "id": "a827d2b6",
   "metadata": {},
   "source": [
    "**Objectives:** \n",
    "\n"
   ]
  },
  {
   "cell_type": "markdown",
   "id": "22330646",
   "metadata": {},
   "source": [
    "1.What is Data Science\n",
    "2.Names of Data Science Tools\n",
    "3.Use of Data Science Tools \n",
    "4.Use of Data Science libraries "
   ]
  },
  {
   "cell_type": "code",
   "execution_count": null,
   "id": "914f275e",
   "metadata": {},
   "outputs": [],
   "source": [
    "##List popular languages for Data Science.\n",
    "*Python\n",
    "*RStudio \n",
    "*SQL\n",
    "*MongoDB\n",
    "*Hadoop"
   ]
  },
  {
   "cell_type": "markdown",
   "id": "d388e6a8",
   "metadata": {},
   "source": [
    "Some of the popular languages that Data Scientists use are:"
   ]
  },
  {
   "cell_type": "markdown",
   "id": "441ea2d2",
   "metadata": {},
   "source": [
    "1.R\n",
    "2.Python\n",
    "3.IBM Watson Studio"
   ]
  },
  {
   "cell_type": "markdown",
   "id": "79af759a",
   "metadata": {},
   "source": [
    "Some of the commonly used libraries used by Data Scientists include:"
   ]
  },
  {
   "cell_type": "markdown",
   "id": "d2b473cb",
   "metadata": {},
   "source": [
    "1.Pandas\n",
    "2.Numpy \n",
    "3.Matplotlib \n"
   ]
  },
  {
   "cell_type": "markdown",
   "id": "e9df8577",
   "metadata": {},
   "source": [
    "|Data Science tools| \n",
    "|------------------| \n",
    "|Apache Spark|\n",
    "|MongoDB| \n",
    "|Hadoop| \n",
    "|Python| \n",
    "|RStudio| \n",
    "|Python|\n"
   ]
  },
  {
   "cell_type": "markdown",
   "id": "efb743a7",
   "metadata": {},
   "source": [
    "Below are a few examples of evaluating arithmetic expressions in Python:\n",
    "+ \n",
    "- \n",
    "* \n",
    "/ \n",
    "**"
   ]
  },
  {
   "cell_type": "markdown",
   "id": "1e65aad6",
   "metadata": {},
   "source": [
    "This is a simple arithmetic expression to multiply then add integers:"
   ]
  },
  {
   "cell_type": "code",
   "execution_count": 1,
   "id": "49267625",
   "metadata": {},
   "outputs": [
    {
     "data": {
      "text/plain": [
       "17"
      ]
     },
     "execution_count": 1,
     "metadata": {},
     "output_type": "execute_result"
    }
   ],
   "source": [
    "(3*4)+5\n"
   ]
  },
  {
   "cell_type": "markdown",
   "id": "158dde61",
   "metadata": {},
   "source": [
    "This will convert 200 minutes to hours by dividing by 60"
   ]
  },
  {
   "cell_type": "code",
   "execution_count": 3,
   "id": "86feb00c",
   "metadata": {},
   "outputs": [
    {
     "data": {
      "text/plain": [
       "3"
      ]
     },
     "execution_count": 3,
     "metadata": {},
     "output_type": "execute_result"
    }
   ],
   "source": [
    "round(200/60)"
   ]
  },
  {
   "cell_type": "markdown",
   "id": "c35a1fe7",
   "metadata": {},
   "source": [
    "**Author**"
   ]
  },
  {
   "cell_type": "markdown",
   "id": "47d524f0",
   "metadata": {},
   "source": [
    "Bitopi Mukherjee"
   ]
  },
  {
   "cell_type": "code",
   "execution_count": null,
   "id": "bb23fddc",
   "metadata": {},
   "outputs": [],
   "source": []
  }
 ],
 "metadata": {
  "kernelspec": {
   "display_name": "Python 3",
   "language": "python",
   "name": "python3"
  },
  "language_info": {
   "codemirror_mode": {
    "name": "ipython",
    "version": 3
   },
   "file_extension": ".py",
   "mimetype": "text/x-python",
   "name": "python",
   "nbconvert_exporter": "python",
   "pygments_lexer": "ipython3",
   "version": "3.8.8"
  }
 },
 "nbformat": 4,
 "nbformat_minor": 5
}
