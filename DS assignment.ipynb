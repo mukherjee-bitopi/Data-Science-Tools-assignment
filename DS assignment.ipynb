{
 "cells": [
  {
   "cell_type": "markdown",
   "metadata": {},
   "source": [
    "<center>\n",
    "    <img src=\"https://cf-courses-data.s3.us.cloud-object-storage.appdomain.cloud/IBMDeveloperSkillsNetwork-DS0105EN-SkillsNetwork/labs/Module2/images/SN_web_lightmode.png\" width=\"300\" alt=\"cognitiveclass.ai logo\">\n",
    "</center>\n"
   ]
  },
  {
   "cell_type": "markdown",
   "metadata": {},
   "source": [
    "#### Add your code below following the instructions given in the course\n"
   ]
  },
  {
   "cell_type": "code",
   "execution_count": null,
   "metadata": {},
   "outputs": [],
   "source": [
    "Data Science Tools and Ecosystem\n",
    "\n",
    "In this notebook, Data Science Tools and Ecosystem are summarized.\n",
    "\n",
    "**Objectives:** \n",
    "\n",
    "\n",
    "\n",
    "1.What is Data Science\n",
    "2.Names of Data Science Tools\n",
    "3.Use of Data Science Tools \n",
    "4.Use of Data Science libraries \n",
    "\n",
    "##List popular languages for Data Science.\n",
    "*Python\n",
    "*RStudio \n",
    "*SQL\n",
    "*MongoDB\n",
    "*Hadoop\n",
    "\n",
    "Some of the popular languages that Data Scientists use are:\n",
    "\n",
    "1.R\n",
    "2.Python\n",
    "3.IBM Watson Studio\n",
    "\n",
    "Some of the commonly used libraries used by Data Scientists include:\n",
    "\n",
    "1.Pandas\n",
    "2.Numpy \n",
    "3.Matplotlib \n",
    "\n",
    "\n",
    "|Data Science tools| \n",
    "|------------------| \n",
    "|Apache Spark|\n",
    "|MongoDB| \n",
    "|Hadoop| \n",
    "|Python| \n",
    "|RStudio| \n",
    "|Python|\n",
    "\n",
    "\n",
    "Below are a few examples of evaluating arithmetic expressions in Python:\n",
    "+ \n",
    "- \n",
    "* \n",
    "/ \n",
    "**\n",
    "\n",
    "This is a simple arithmetic expression to multiply then add integers:\n",
    "\n",
    "(3*4)+5\n",
    "\n",
    "\n",
    "This will convert 200 minutes to hours by dividing by 60\n",
    "\n",
    "round(200/60)\n",
    "\n",
    "**Author**\n",
    "\n",
    "Bitopi Mukherjee\n",
    "\n"
   ]
  }
 ],
 "metadata": {
  "kernelspec": {
   "display_name": "Python",
   "language": "python",
   "name": "conda-env-python-py"
  },
  "language_info": {
   "codemirror_mode": {
    "name": "ipython",
    "version": 3
   },
   "file_extension": ".py",
   "mimetype": "text/x-python",
   "name": "python",
   "nbconvert_exporter": "python",
   "pygments_lexer": "ipython3",
   "version": "3.7.12"
  }
 },
 "nbformat": 4,
 "nbformat_minor": 4
}
